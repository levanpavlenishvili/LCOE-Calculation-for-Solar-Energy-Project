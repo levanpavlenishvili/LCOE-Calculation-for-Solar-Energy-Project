{
 "cells": [
  {
   "cell_type": "code",
   "execution_count": 1,
   "metadata": {},
   "outputs": [],
   "source": [
    "import pandas as pd\n",
    "import numpy as np \n",
    "import scipy as sp\n",
    "import seaborn as sb\n",
    "import matplotlib.pyplot as plt"
   ]
  },
  {
   "cell_type": "markdown",
   "metadata": {},
   "source": [
    "# Function for simple simulation of solar power generation and calculation of LCOE\n",
    "\n",
    "The model is not final, it can and will be updated with more precise simulation approaches for power generation for rooftop solar power installations. This simple example is only for demostrative purposes. "
   ]
  },
  {
   "cell_type": "markdown",
   "metadata": {},
   "source": [
    "# Import Parameters "
   ]
  },
  {
   "cell_type": "code",
   "execution_count": 2,
   "metadata": {},
   "outputs": [],
   "source": [
    "#Function for simulating total energy generation\n",
    "\n",
    "\n",
    "def A_E_G(GHI_mean, GHI_SD, Derate_Factor_mean, Derate_Factor_SD, I_C_kW, Lifetime):\n",
    "#Calculating annual generation with Installed capacity (I_C), Derate factor, and GHI.\n",
    "#Generating random matrix of GHIs over lifetime of the system with 1,000 samples\n",
    "    GHI=np.random.normal(GHI_mean, GHI_SD, size=(Lifetime,1000))\n",
    "#Generating random matrix of derate factors over lifetime of the system\n",
    "    Derate_Factor=np.random.normal(Derate_Factor_mean, Derate_Factor_SD, size=(Lifetime,1000))\n",
    "#Creating an array of installed capacity\n",
    "    I_C_kW_array=np.full_like(GHI,I_C_kW)\n",
    "#Multiplying matrices element-wise\n",
    "    Unit_Gen=np.multiply(GHI,Derate_Factor)\n",
    "    A_E_G=np.multiply(Unit_Gen,I_C_kW_array)\n",
    "    return A_E_G\n",
    "\n",
    "\n",
    "def T_I(I_C_kW, Price_per_kW):\n",
    "#Calculation of total investment cost\n",
    "    T_I=I_C_kW*Price_per_kW\n",
    "    return T_I"
   ]
  },
  {
   "cell_type": "markdown",
   "metadata": {},
   "source": [
    "# Calculation of LCOE"
   ]
  },
  {
   "cell_type": "code",
   "execution_count": 4,
   "metadata": {},
   "outputs": [],
   "source": [
    "#Example 1. \n",
    "\n",
    "A_E_G_value=A_E_G(1534,200,0.8,0.1,5,25)\n"
   ]
  },
  {
   "cell_type": "code",
   "execution_count": 5,
   "metadata": {},
   "outputs": [],
   "source": [
    "#Function for LCOE Calculation\n",
    "\n",
    "def LCOE_Calculator(A_E_G, T_I, O_M_Cost, Lifetime, D_R):\n",
    "    \"A_E_G: Annual Energy Generation (A_E_G) Add integer, float or np.array.\"\n",
    "    \"np.array, can be a simulation result from the function above\"\n",
    "    \"assigned to a variable\" \n",
    "    \"T_I: an integer, or float - total value of your investment,\"\n",
    "    \"including inverters and wiring for solar installation \" \n",
    "    \"O_M_Cost: annual operating and maintaiance cost - a float in range of [0,1],\"\n",
    "    \"share of O_M_Cost representing O_M_Cost as share of total investment \"\n",
    "    \"Lifetime: an integer representing Lifetime of Solar installation - recommended 25 years.\"\n",
    "    \"D_R: Discount Rate (D_R), a float representing discount rate (D_R) for your financing cost of the project.\"\n",
    "    \"Write a float between (0,1) i.e. writing percentage as a number between (0,1)\" \n",
    "    if type(A_E_G)==np.ndarray: #Cheking if A_E_G is ndarray\n",
    "        Shape=A_E_G.shape #Getting dimentions of A_E_G\n",
    "        Period=np.arange(0,Lifetime+1) #Creating ndarray of periods for running a loop\n",
    "        Sim_size=np.arange(0,Shape[1]) #Creating simulation size ndarray to run loop for simulations\n",
    "        D_F=np.ones(Lifetime+1) #Creating ndarray for discount factors\n",
    "#Calculating Discount Factors\n",
    "        for i in Period:\n",
    "            D_F[i]=1/((1+D_R)**i)\n",
    "#Calculating discounted generation for the simulation\n",
    "        Discounted_GEN=np.ones((Shape[0]+1,Shape[1]+1))\n",
    "        Period=np.arange(0,Lifetime)\n",
    "        for y in Period:\n",
    "            for x in Sim_size:\n",
    "                Discounted_GEN[y,x]=A_E_G[y,x]*D_F[y]\n",
    "        T_G=np.sum(Discounted_GEN, axis=0)\n",
    "#Calculating Operation and maintainance costs\n",
    "        O_M=np.ones(Lifetime)\n",
    "        for n in Period:\n",
    "            O_M[n]=O_M_Cost*T_I*D_F[n] \n",
    "        T_OM=np.sum(O_M)\n",
    "#Calculating LCOE\n",
    "        LCOE=np.ones(Shape[1])\n",
    "        for j in Sim_size:\n",
    "            LCOE[j]=(T_I+T_OM)/T_G[j]\n",
    "#Calculation of LCOE in case of integer, or Float A_E_G\n",
    "    else:\n",
    "        Period=list(range(Lifetime+1))\n",
    "        D_F=list(range(Lifetime+1)) \n",
    "        for i in Period:\n",
    "            D_F[i]=1/((1+D_R)**i)\n",
    "        Discounted_GEN=list(range(Lifetime+1))\n",
    "        for n in Period:\n",
    "            Discounted_GEN[n]=A_E_G*D_F[n]\n",
    "        T_G=sum(Discounted_GEN)\n",
    "        O_M=list(range(Lifetime+1))\n",
    "        for y in Period:\n",
    "            O_M[y]=O_M_Cost*T_I*D_F[y]\n",
    "        T_OM=sum(O_M)\n",
    "        LCOE=(T_I+T_OM)/T_G\n",
    "    return LCOE"
   ]
  },
  {
   "cell_type": "code",
   "execution_count": 11,
   "metadata": {},
   "outputs": [],
   "source": [
    "#Example 1\n",
    "\n",
    "RES_1=LCOE_Calculator(A_E_G_value,5000,0.005,25,0.12)"
   ]
  },
  {
   "cell_type": "markdown",
   "metadata": {},
   "source": [
    "# Visualization of Results"
   ]
  },
  {
   "cell_type": "code",
   "execution_count": 7,
   "metadata": {},
   "outputs": [
    {
     "data": {
      "image/png": "[encoded data removed]",
      "text/plain": [
       "<Figure size 432x288 with 1 Axes>"
      ]
     },
     "metadata": {
      "needs_background": "light"
     },
     "output_type": "display_data"
    }
   ],
   "source": [
    "plt.hist(RES_1)\n",
    "plt.show()\n"
   ]
  }
 ],
 "metadata": {
  "kernelspec": {
   "display_name": "Python 3",
   "language": "python",
   "name": "python3"
  },
  "language_info": {
   "codemirror_mode": {
    "name": "ipython",
    "version": 3
   },
   "file_extension": ".py",
   "mimetype": "text/x-python",
   "name": "python",
   "nbconvert_exporter": "python",
   "pygments_lexer": "ipython3",
   "version": "3.8.5"
  }
 },
 "nbformat": 4,
 "nbformat_minor": 4
}
